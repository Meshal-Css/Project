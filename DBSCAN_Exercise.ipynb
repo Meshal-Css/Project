{
  "nbformat": 4,
  "nbformat_minor": 0,
  "metadata": {
    "colab": {
      "provenance": [],
      "include_colab_link": true
    },
    "kernelspec": {
      "name": "python3",
      "display_name": "Python 3"
    },
    "language_info": {
      "name": "python"
    }
  },
  "cells": [
    {
      "cell_type": "markdown",
      "metadata": {
        "id": "view-in-github",
        "colab_type": "text"
      },
      "source": [
        "<a href=\"https://colab.research.google.com/github/Meshal-Css/Project/blob/main/DBSCAN_Exercise.ipynb\" target=\"_parent\"><img src=\"https://colab.research.google.com/assets/colab-badge.svg\" alt=\"Open In Colab\"/></a>"
      ]
    },
    {
      "cell_type": "markdown",
      "source": [
        "#**DBSCAN**\n"
      ],
      "metadata": {
        "id": "WLQzuoxi9Nfq"
      }
    },
    {
      "cell_type": "markdown",
      "source": [
        "#Step 1 : Import Libraries\n",
        "\n"
      ],
      "metadata": {
        "id": "_3zW-i7I9O_b"
      }
    },
    {
      "cell_type": "markdown",
      "source": [
        "#Step 2 : Prepare dataset\n",
        "###**use make blobs with different numbers**\n",
        "\n"
      ],
      "metadata": {
        "id": "5Knv40zd9TeJ"
      }
    },
    {
      "cell_type": "code",
      "source": [
        "import numpy as np\n",
        "import pandas as pd\n",
        "from sklearn.cluster import DBSCAN\n",
        "from sklearn.datasets import make_blobs\n",
        "from sklearn.preprocessing import StandardScaler\n",
        "import matplotlib.pyplot as plt\n",
        "from sklearn import metrics\n",
        "from sklearn import datasets"
      ],
      "metadata": {
        "id": "Jj_K-ICEXfKy"
      },
      "execution_count": 2,
      "outputs": []
    },
    {
      "cell_type": "code",
      "source": [
        "X,y_true = make_blobs(n_samples=300, centers=4, cluster_std=0.60, random_state=0)"
      ],
      "metadata": {
        "id": "NqEujM0J9TCn"
      },
      "execution_count": 5,
      "outputs": []
    },
    {
      "cell_type": "markdown",
      "source": [
        "#Step 3 : Modeling The Data Using DBSCAN\n",
        "\n"
      ],
      "metadata": {
        "id": "8GtmnKoI9kNm"
      }
    },
    {
      "cell_type": "code",
      "source": [
        "db = DBSCAN(eps=0.3, min_samples=10).fit(X)"
      ],
      "metadata": {
        "id": "L3dZ3qo_Ysyn"
      },
      "execution_count": 7,
      "outputs": []
    },
    {
      "cell_type": "code",
      "source": [
        "core_samples_mask = np.zeros_like(db.labels_, dtype=bool)\n",
        "core_samples_mask[db.core_sample_indices_] = True\n",
        "labels = db.labels_"
      ],
      "metadata": {
        "id": "IFY5R8a5ZN5X"
      },
      "execution_count": 8,
      "outputs": []
    },
    {
      "cell_type": "code",
      "source": [
        "n_clusters_ = len(set(labels)) - (1 if -1 in labels else 0)"
      ],
      "metadata": {
        "id": "3zAzYrbbZTOa"
      },
      "execution_count": 9,
      "outputs": []
    },
    {
      "cell_type": "code",
      "source": [
        "unique_labels = set(labels)"
      ],
      "metadata": {
        "id": "WuCfXtdXZgyN"
      },
      "execution_count": 10,
      "outputs": []
    },
    {
      "cell_type": "code",
      "source": [
        "colors = ['y','g','b','r']"
      ],
      "metadata": {
        "id": "RS9zwqOvZj0P"
      },
      "execution_count": 11,
      "outputs": []
    },
    {
      "cell_type": "code",
      "source": [
        "print (colors)"
      ],
      "metadata": {
        "id": "V7zBBGReZ1zU",
        "outputId": "c77f389d-0470-41e6-9c87-a4582a86234d",
        "colab": {
          "base_uri": "https://localhost:8080/"
        }
      },
      "execution_count": 13,
      "outputs": [
        {
          "output_type": "stream",
          "name": "stdout",
          "text": [
            "['y', 'g', 'b', 'r']\n"
          ]
        }
      ]
    },
    {
      "cell_type": "code",
      "source": [
        "for k, col in zip(unique_labels, colors):\n",
        "    if k == -1:\n",
        "        col = 'k'\n",
        "\n",
        "        class_member_mask = (labels == k)"
      ],
      "metadata": {
        "id": "NEdzI0x2aF4w"
      },
      "execution_count": 14,
      "outputs": []
    },
    {
      "cell_type": "code",
      "source": [
        "class_member_mask = (labels == k)"
      ],
      "metadata": {
        "id": "M-iv6r4ta0tZ"
      },
      "execution_count": 20,
      "outputs": []
    },
    {
      "cell_type": "code",
      "source": [
        "\n",
        "    xy = X[class_member_mask & ~core_samples_mask]\n",
        "    plt.plot(xy[:, 0], xy[:, 1], 'o', markerfacecolor=col,\n",
        "             markeredgecolor='k',\n",
        "             markersize=6,)\n",
        "    plt.title('Estimated number of clusters: %d' % n_clusters_)\n",
        "    plt.show()"
      ],
      "metadata": {
        "id": "6zfZPgM7aXBq",
        "outputId": "5e234bc5-6b49-469c-a8d0-ab1d65d548ff",
        "colab": {
          "base_uri": "https://localhost:8080/",
          "height": 452
        }
      },
      "execution_count": 30,
      "outputs": [
        {
          "output_type": "display_data",
          "data": {
            "text/plain": [
              "<Figure size 640x480 with 1 Axes>"
            ],
            "image/png": "[encoded data removed]"
          },
          "metadata": {}
        }
      ]
    },
    {
      "cell_type": "markdown",
      "source": [
        "#Step 4 : Evaluation Metrics For DBSCAN Algorithm In Machine Learning\n"
      ],
      "metadata": {
        "id": "ijz9iIqa9u3g"
      }
    },
    {
      "cell_type": "code",
      "source": [
        "from sklearn import metrics\n",
        "sc = metrics.silhouette_score(X, labels)\n",
        "print (sc)"
      ],
      "metadata": {
        "id": "PFmYeD5U9x2S",
        "outputId": "01fdda82-c359-4f7b-c477-3647b0a3e827",
        "colab": {
          "base_uri": "https://localhost:8080/"
        }
      },
      "execution_count": 32,
      "outputs": [
        {
          "output_type": "stream",
          "name": "stdout",
          "text": [
            "-0.25081172884728203\n"
          ]
        }
      ]
    },
    {
      "cell_type": "code",
      "source": [
        "ari = metrics.adjusted_rand_score(y_true, labels)\n",
        "print (ari)"
      ],
      "metadata": {
        "id": "c63Q_wbPcszr",
        "outputId": "6c91c440-0be3-4198-8766-54088125e14a",
        "colab": {
          "base_uri": "https://localhost:8080/"
        }
      },
      "execution_count": 33,
      "outputs": [
        {
          "output_type": "stream",
          "name": "stdout",
          "text": [
            "0.09360008783659203\n"
          ]
        }
      ]
    },
    {
      "cell_type": "markdown",
      "source": [
        "#**Well Done :)**"
      ],
      "metadata": {
        "id": "ZzXNoxfh9-y9"
      }
    }
  ]
}